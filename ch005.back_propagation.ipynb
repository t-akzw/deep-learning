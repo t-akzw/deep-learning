{
 "cells": [
  {
   "cell_type": "markdown",
   "metadata": {},
   "source": [
    "## 誤差逆伝播法\n",
    "\n",
    "重みパラメータの**勾配計算を効率的に行うための方法**。\n",
    "ソフトマックス層からのネットーワークの出力と教師ラベル間の誤差を、  \n",
    "これまでの入力層から出力層へのデータの流れと逆方向に流して勾配計算を各層のニューロンごとに行う（逆伝播）。  \n",
    "\n",
    "各ニューロンでは、局所的な微分の計算を**連鎖率**という原理をもとに計算していく。  "
   ]
  },
  {
   "cell_type": "code",
   "execution_count": 1,
   "metadata": {},
   "outputs": [
    {
     "name": "stderr",
     "output_type": "stream",
     "text": [
      "Using TensorFlow backend.\n"
     ]
    },
    {
     "name": "stdout",
     "output_type": "stream",
     "text": [
      "(60000, 784)\n",
      "(60000, 10)\n",
      "(10000, 784)\n",
      "(10000, 10)\n"
     ]
    }
   ],
   "source": [
    "# MNIST読み込み\n",
    "from keras.datasets import mnist\n",
    "from keras.utils.np_utils import to_categorical\n",
    "(x_train, t_train), (x_test, t_test) = mnist.load_data()\n",
    "\n",
    "x_train = x_train.reshape(60000, 784) / 255.0\n",
    "x_test = x_test.reshape(10000, 784) / 255.0\n",
    "\n",
    "# encoding\n",
    "t_train = to_categorical(t_train, 10)\n",
    "t_test =  to_categorical(t_test, 10)\n",
    "\n",
    "print(x_train.shape) # 学習用画像データ\n",
    "print(t_train.shape) # 学習用画像データのラベル\n",
    "print(x_test.shape)  # テスト用画像データ\n",
    "print(t_test.shape)  # テスト用画像データのラベル"
   ]
  },
  {
   "cell_type": "code",
   "execution_count": 2,
   "metadata": {},
   "outputs": [],
   "source": [
    "import numpy as np\n",
    "import matplotlib.pyplot as plt\n",
    "from network.two_layer_net_ch05 import TwoLayerNet\n",
    "\n",
    "class TrainNeuralNet:\n",
    "    \n",
    "    def __init__(self, iteration=10000, train_size=60000, batch_size=100, learning_rate=0.1, \n",
    "                 size={'in': 784, 'hidden1': 50, 'hidden2': 100, 'out': 10}, \n",
    "                 experiment={'init_param': False, 'func': False, 'layer': False}, \n",
    "                 x_train=[], t_train=[], x_test=[], t_test=[]):\n",
    "        train_loss_list = []\n",
    "        train_acc_list = []\n",
    "        test_acc_list = []\n",
    "        # 1エポック辺りの繰り返し数\n",
    "        iter_per_epoch = max(train_size / batch_size, 1)\n",
    "        \n",
    "        if experiment['layer'] == False:\n",
    "            network = ThreeLayerNet(size=size, experiment=experiment)\n",
    "            keys = ['W1', 'b1', 'W2', 'b2', 'W3', 'b3']\n",
    "        else:\n",
    "            network = TwoLayerNet(input_size=size['in'], hidden_size=size['hidden1'], output_size=size['out'])\n",
    "            keys = ['W1', 'b1', 'W2', 'b2']\n",
    "            \n",
    "        for i in range(iteration):\n",
    "            # ミニバッチ取得\n",
    "            batch_mask = np.random.choice(train_size, batch_size)\n",
    "            x_batch = x_train[batch_mask]\n",
    "            t_batch = t_train[batch_mask]\n",
    "\n",
    "            # 勾配計算\n",
    "            grad = network.gradient(x_batch, t_batch)\n",
    "            \n",
    "            # パラメータ更新\n",
    "            for key in keys:\n",
    "                network.params[key] -= learning_rate * grad[key]\n",
    "            \n",
    "            loss = network.loss(x_batch, t_batch)\n",
    "            train_loss_list.append(loss)\n",
    "            \n",
    "            # 1エポックごとに認識率を計算\n",
    "            if i % iter_per_epoch == 0:\n",
    "                train_acc = network.accuracy(x_train, t_train)\n",
    "                test_acc = network.accuracy(x_test, t_test)\n",
    "                train_acc_list.append(train_acc)\n",
    "                test_acc_list.append(test_acc)\n",
    "                print(\"train acc, test acc | \" + str(train_acc) + \", \" + str(test_acc))\n",
    "                \n",
    "        # グラフの描画\n",
    "        markers = {'train': 'o', 'test': 's'}\n",
    "        x = np.arange(len(train_acc_list))\n",
    "        plt.plot(x, train_acc_list, label='train acc')\n",
    "        plt.plot(x, test_acc_list, label='test acc', linestyle='--')\n",
    "        plt.xlabel(\"epochs\")\n",
    "        plt.ylabel(\"accuracy\")\n",
    "        plt.ylim(0, 1.0)\n",
    "        plt.legend(loc='lower right')\n",
    "        plt.show()"
   ]
  },
  {
   "cell_type": "code",
   "execution_count": 3,
   "metadata": {},
   "outputs": [
    {
     "name": "stdout",
     "output_type": "stream",
     "text": [
      "train acc, test acc | 0.1147, 0.1123\n",
      "train acc, test acc | 0.9019833333333334, 0.9023\n",
      "train acc, test acc | 0.9212166666666667, 0.9224\n",
      "train acc, test acc | 0.9342, 0.9346\n",
      "train acc, test acc | 0.9438833333333333, 0.9408\n",
      "train acc, test acc | 0.9487833333333333, 0.9463\n",
      "train acc, test acc | 0.9540333333333333, 0.9519\n",
      "train acc, test acc | 0.9590333333333333, 0.9543\n",
      "train acc, test acc | 0.9626833333333333, 0.9577\n",
      "train acc, test acc | 0.9647, 0.9577\n",
      "train acc, test acc | 0.9681833333333333, 0.9617\n",
      "train acc, test acc | 0.9687666666666667, 0.961\n",
      "train acc, test acc | 0.97265, 0.9641\n",
      "train acc, test acc | 0.9743166666666667, 0.9666\n",
      "train acc, test acc | 0.97555, 0.966\n",
      "train acc, test acc | 0.9778333333333333, 0.9682\n",
      "train acc, test acc | 0.97775, 0.9682\n"
     ]
    },
    {
     "data": {
      "image/png": "[encoded data removed]",
      "text/plain": [
       "<Figure size 432x288 with 1 Axes>"
      ]
     },
     "metadata": {},
     "output_type": "display_data"
    },
    {
     "data": {
      "text/plain": [
       "<__main__.TrainNeuralNet at 0x11b8088d0>"
      ]
     },
     "execution_count": 3,
     "metadata": {},
     "output_type": "execute_result"
    }
   ],
   "source": [
    "# 誤差逆伝播 2層NN default\n",
    "# 認識精度 0.9780666666666666\n",
    "TrainNeuralNet(x_train=x_train, t_train=t_train, x_test=x_test, t_test=t_test, experiment={'layer': True})"
   ]
  },
  {
   "cell_type": "markdown",
   "metadata": {},
   "source": [
    "誤差逆伝播にしないと十分以上かかる処理が数十秒になるので、  \n",
    "誤差逆伝播により高速化されている。\n",
    "\n",
    "認識精度が上がっている気がするが何故だろう・・"
   ]
  }
 ],
 "metadata": {
  "kernelspec": {
   "display_name": "Python 3",
   "language": "python",
   "name": "python3"
  },
  "language_info": {
   "codemirror_mode": {
    "name": "ipython",
    "version": 3
   },
   "file_extension": ".py",
   "mimetype": "text/x-python",
   "name": "python",
   "nbconvert_exporter": "python",
   "pygments_lexer": "ipython3",
   "version": "3.5.1"
  }
 },
 "nbformat": 4,
 "nbformat_minor": 2
}
