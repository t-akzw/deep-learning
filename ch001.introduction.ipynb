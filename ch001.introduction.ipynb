{
 "cells": [
  {
   "cell_type": "markdown",
   "metadata": {},
   "source": [
    "# 001.introduction"
   ]
  },
  {
   "cell_type": "markdown",
   "metadata": {},
   "source": [
    "目標：  \n",
    "- ディープラーニングの理解と実装、CUDA使って動かしてみる\n",
    "\n",
    "背景：\n",
    "- k-nearest neighborや学習の高速・低電力化を目的としたLSIの研究をしていた\n",
    "- 画像認識、ジェスチャー認識、文字認識などの機械学習系の研究とそれをLSI化する研究室にいた\n",
    "- 社会人になってからディープラーニング流行りだしたので最近の動向は知らん\n",
    "- python書ける\n",
    "- 現在の業務とは全く関係ない\n",
    "\n",
    "モチベーション：\n",
    "- Qiitaを書くことになったけどネタもないし、良い機会だからディープラーニングをきちんと理解したい\n",
    "\n",
    "参考資料：\n",
    "- [ゼロから作るDeep Learning](https://www.amazon.co.jp/%E3%82%BC%E3%83%AD%E3%81%8B%E3%82%89%E4%BD%9C%E3%82%8BDeep-Learning-%E2%80%95Python%E3%81%A7%E5%AD%A6%E3%81%B6%E3%83%87%E3%82%A3%E3%83%BC%E3%83%97%E3%83%A9%E3%83%BC%E3%83%8B%E3%83%B3%E3%82%B0%E3%81%AE%E7%90%86%E8%AB%96%E3%81%A8%E5%AE%9F%E8%A3%85-%E6%96%8E%E8%97%A4-%E5%BA%B7%E6%AF%85/dp/4873117585)\n",
    "\n",
    "方針：  \n",
    "- 本に書いてあることを細々と説明しても意味ないので、何が起こっているのかを自分なりに考察しつつ実装する。"
   ]
  },
  {
   "cell_type": "code",
   "execution_count": null,
   "metadata": {},
   "outputs": [],
   "source": []
  }
 ],
 "metadata": {
  "kernelspec": {
   "display_name": "Python 3",
   "language": "python",
   "name": "python3"
  },
  "language_info": {
   "codemirror_mode": {
    "name": "ipython",
    "version": 3
   },
   "file_extension": ".py",
   "mimetype": "text/x-python",
   "name": "python",
   "nbconvert_exporter": "python",
   "pygments_lexer": "ipython3",
   "version": "3.5.1"
  }
 },
 "nbformat": 4,
 "nbformat_minor": 2
}
