{
 "cells": [
  {
   "cell_type": "markdown",
   "metadata": {},
   "source": [
    "## ニューラルネットワーク（NN）\n",
    "\n",
    "- パーセプトロンの重みを自動で学習させるためのもの"
   ]
  },
  {
   "cell_type": "markdown",
   "metadata": {},
   "source": [
    "画像はhttp://nkdkccmbr.hateblo.jp/entry/2016/10/06/222245\n",
    "を使わせて頂くとするmm\n",
    "\n",
    "図ch003-1:2層ニューラルネットワークの例\n",
    "<img border=\"0\" src=\"./images/neural_network.png\" width=\"512\" height=\"512\" alt=\"イラスト1\">"
   ]
  },
  {
   "cell_type": "markdown",
   "metadata": {},
   "source": [
    "ニューラルネットワークの前に・・\n",
    "\n",
    "前章の`def step_func(value, threshold):`は活性化関数といい、  \n",
    "入力信号の総和に対する出力信号の出し方を決めている関数。  \n",
    "ステップ関数以外にもいくつかの関数がある。\n",
    "\n",
    "- シグモイド\n",
    "- ReLU\n",
    "- ソフトマックス\n",
    "\n",
    "など"
   ]
  },
  {
   "cell_type": "code",
   "execution_count": 1,
   "metadata": {},
   "outputs": [
    {
     "data": {
      "text/plain": [
       "<matplotlib.legend.Legend at 0x10e77f0f0>"
      ]
     },
     "execution_count": 1,
     "metadata": {},
     "output_type": "execute_result"
    },
    {
     "data": {
      "image/png": "[encoded data removed]",
      "text/plain": [
       "<Figure size 432x288 with 1 Axes>"
      ]
     },
     "metadata": {},
     "output_type": "display_data"
    }
   ],
   "source": [
    "# 活性化関数を図字する\n",
    "import numpy as np\n",
    "import matplotlib.pylab as plt\n",
    "\n",
    "#以下のインライン展開のコードを走らせないとmatplotlibのグラフ表示ができない場合がある\n",
    "%matplotlib inline\n",
    "\n",
    "def step(x):\n",
    "  return np.array(x > 0, dtype=np.int)\n",
    "\n",
    "def sigmoid(x):\n",
    "  return 1 / (1 + np.exp(-x))\n",
    "\n",
    "def relu(x):\n",
    "  return np.maximum(0, x)\n",
    "\n",
    "def softmax(x):\n",
    "  c = np.max(x)\n",
    "  exp_x = np.exp(x - c)\n",
    "  sum_exp_x = np.sum(exp_x)\n",
    "  y = exp_x / sum_exp_x\n",
    "  return y\n",
    "    \n",
    "# 横軸の範囲\n",
    "x = np.arange(-5.0, 5.0, 0.1)\n",
    "plot = (lambda func, label='': plt.plot( x, func, label=label ))\n",
    "arr = [ [step(x), 'Step'], [sigmoid(x), 'Sigmoid'], [relu(x), 'ReLU'], [softmax(x), 'Softmax'] ]\n",
    "[ plot(i[0], i[1]) for i in arr ]\n",
    "plt.legend()"
   ]
  },
  {
   "cell_type": "markdown",
   "metadata": {},
   "source": [
    "活性化関数の特性\n",
    "\n",
    "- 非線形関数\n",
    "- フィルタ的な役割\n",
    "  大きな入力は大きく、小さな入力は小さくする"
   ]
  },
  {
   "cell_type": "markdown",
   "metadata": {},
   "source": [
    "## 本題\n",
    "\n",
    "ニューラルネットワークでは活性化関数に非線形関数を用いる必要がある。  \n",
    "複数の層を使っても線形関数では意味がない。"
   ]
  },
  {
   "cell_type": "code",
   "execution_count": 2,
   "metadata": {},
   "outputs": [
    {
     "name": "stdout",
     "output_type": "stream",
     "text": [
      "1.0\n"
     ]
    }
   ],
   "source": [
    "# パーセプトロンの式(k=2)：\n",
    "def perceptron(x1, x2, w1, w2):\n",
    "    return linear(x1*w1 + x2*w2)\n",
    "\n",
    "def linear(x):\n",
    "  return 2*x\n",
    "\n",
    "X = (lambda w1, w2: perceptron(0.5, 0.5, w1, w2))\n",
    "print(X(1, 0))"
   ]
  },
  {
   "cell_type": "code",
   "execution_count": 3,
   "metadata": {},
   "outputs": [
    {
     "name": "stdout",
     "output_type": "stream",
     "text": [
      "4.0\n",
      "3.0\n"
     ]
    }
   ],
   "source": [
    "# 2層\n",
    "print( X( X(1, 1), X(1, 1) ) )\n",
    "print( X( X(1, 1), X(1, 0) ) )"
   ]
  },
  {
   "cell_type": "code",
   "execution_count": 4,
   "metadata": {},
   "outputs": [
    {
     "name": "stdout",
     "output_type": "stream",
     "text": [
      "4.0\n",
      "3.0\n"
     ]
    }
   ],
   "source": [
    "# 1層\n",
    "print(X(2, 2))\n",
    "print(X(2, 1))"
   ]
  },
  {
   "cell_type": "markdown",
   "metadata": {},
   "source": [
    "線形関数だと何層にしたところで1層で重みなどを調整すれば同じ値を実現する事が出来る。"
   ]
  },
  {
   "cell_type": "markdown",
   "metadata": {},
   "source": [
    "## NNの推論\n",
    "\n",
    "推論では重みが学習済みのネットワークに対して入力ベクトルを入れて結果の分類などを行う。 \n",
    "\n",
    "図ch003-2:3層ニューラルネットワーク  \n",
    "(バイアスは図字されていない)\n",
    "\n",
    "<img border=\"0\" src=\"./images/neural_network_3layer.png\" width=\"512\" height=\"512\" alt=\"イラスト1\">"
   ]
  },
  {
   "cell_type": "markdown",
   "metadata": {},
   "source": [
    "ニューラルネットワークの計算は行列計算出来る。  \n",
    "入力、重みの行列から出力の行列を計算する。"
   ]
  },
  {
   "cell_type": "code",
   "execution_count": 5,
   "metadata": {},
   "outputs": [],
   "source": [
    "# 第一層目に着目する\n",
    "#   入力 x1=1, x2=2\n",
    "#   重み w1=1, w2=2, w3=3, w4=4,w5=5, w6=6\n",
    "#   バイアス h1=0.1, h2=0.2, h3=0.3\n",
    "#   出力 a1, a2, a3を求める\n",
    "\n",
    "X = np.array([1, 2])\n",
    "W = np.array([[1, 3, 5], [2, 4, 6]])\n",
    "H = np.array([0.1, 0.2, 0.3])"
   ]
  },
  {
   "cell_type": "code",
   "execution_count": 6,
   "metadata": {},
   "outputs": [
    {
     "name": "stdout",
     "output_type": "stream",
     "text": [
      "5.1 11.2 17.3\n",
      "5.1\n"
     ]
    }
   ],
   "source": [
    "# 行列の内積から出力aが求まる\n",
    "A = np.dot(X, W) + H\n",
    "a1 = A[0]\n",
    "a2 = A[1]\n",
    "a3 = A[2]\n",
    "print(a1, a2, a3)\n",
    "\n",
    "# 愚直に前章のように計算すると以下のようになる\n",
    "a1 = X[0]*W[0][0] + X[1]*W[1][0] + H[0]\n",
    "print(a1)"
   ]
  },
  {
   "cell_type": "code",
   "execution_count": 7,
   "metadata": {},
   "outputs": [
    {
     "name": "stdout",
     "output_type": "stream",
     "text": [
      "[0.9939402  0.99998633 0.99999997]\n"
     ]
    }
   ],
   "source": [
    "# シグモイド関数をAに対して適用する\n",
    "Z = sigmoid(A)\n",
    "print(Z)"
   ]
  },
  {
   "cell_type": "markdown",
   "metadata": {},
   "source": [
    "という感じで入力、重み、バイアスから出力を計算し、活性化関数に入れる。  \n",
    "値Zは次の層の入力として使用される。  \n",
    "最終段(出力層)では活性化関数は解く問題の性質によって決める。\n",
    "\n",
    "ソフトマックスは出力値を確率に変換してくれるので分類問題で利用する。"
   ]
  },
  {
   "cell_type": "code",
   "execution_count": 8,
   "metadata": {},
   "outputs": [
    {
     "name": "stdout",
     "output_type": "stream",
     "text": [
      "[5.01917302e-06 2.23783729e-03 9.97757144e-01]\n"
     ]
    }
   ],
   "source": [
    "Z = softmax(A)\n",
    "print(Z)"
   ]
  },
  {
   "cell_type": "markdown",
   "metadata": {},
   "source": [
    "## 要点\n",
    "\n",
    "**ニューラルネットワークは行列で計算できる。**   \n",
    "\n",
    "余談：  \n",
    "行列計算のためにハードウェアアクセラレータはベクトル内積演算器とか行列乗算器を積んでいるんだろう。  \n",
    "TPUのシストリックアレイは中身どうなっているんだろう。  \n",
    "論文も（今更）暇な時に読んでみるか( ˘ω˘)ｽﾔｧ\n",
    "\n",
    "https://drive.google.com/file/d/0Bx4hafXDDq2EMzRNcy1vSUxtcEk/view  \n",
    "https://cloudplatform-jp.googleblog.com/2017/05/an-in-depth-look-at-googles-first-tensor-processing-unit-tpu.html"
   ]
  }
 ],
 "metadata": {
  "kernelspec": {
   "display_name": "Python 3",
   "language": "python",
   "name": "python3"
  },
  "language_info": {
   "codemirror_mode": {
    "name": "ipython",
    "version": 3
   },
   "file_extension": ".py",
   "mimetype": "text/x-python",
   "name": "python",
   "nbconvert_exporter": "python",
   "pygments_lexer": "ipython3",
   "version": "3.5.1"
  }
 },
 "nbformat": 4,
 "nbformat_minor": 2
}
