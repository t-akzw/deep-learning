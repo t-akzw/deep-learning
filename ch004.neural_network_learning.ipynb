{
 "cells": [
  {
   "cell_type": "markdown",
   "metadata": {},
   "source": [
    "## ニューラルネットワークの学習\n",
    "\n",
    "NNの学習とは、重みとバイアスを訓練データに適応させるように調整する、「教師あり学習」である。  \n",
    "\n",
    "NNの学習は、何を指標として、どのように適応させるのか。  \n",
    "- 指標 = 損失関数（二乗和誤差、クロスエントロピー誤差、など）\n",
    "- 適応 = 最適化問題（最急降下法、確率的勾配降下法、焼きなまし法、など）  \n",
    "  この辺りがイジングモデルを計算する[D-wave](https://www.dwavesys.com/home)とかに関わってくるのかな^^  \n",
    "  爆速で学習するみたいな。最適化問題は計算負荷がめちゃくちゃ高そう。  \n",
    "\n",
    "用語：\n",
    "- **損失関数**   \n",
    "  学習が悪いということを評価する指標。 **微分できることが重要**  \n",
    "  学習に使う全ての訓練データとNNの出力の比較を行ってそれらの和をとるので、データ量が多い場合は現実的でなくなる。    \n",
    "  そのため、ミニバッチ学習という手法を使う。 \n",
    "- **最適化問題 **  \n",
    "  エネルギー最小化問題ともいうらすぃ。  \n",
    "  球を坂の上に置くと、位置エネルギーが運動エネルギーになって転がっていくが、安定する位置で止まる。  \n",
    "  このように損失関数という坂道を安定状態(=微分した値が0)に持っていく。\n",
    "- **クロスエントロピー誤差**  \n",
    "  ソフトマックスと組み合わせて分類問題で使われるっぽい  \n",
    "  確率が低いほど必要な情報量が多い、つまりソフトマックスの結果の出力値が小さいほどクロスエントロピー誤差の値が大きくなる  \n",
    "  [クロスエントロピーについてわかりやすい記事](http://nihaoshijie.hatenadiary.jp/entry/2017/04/26/062304) "
   ]
  },
  {
   "cell_type": "markdown",
   "metadata": {},
   "source": [
    "## NNの学習手順\n",
    "\n",
    "1. **ミニバッチ**  \n",
    "  訓練データの中から一部のデータを無作為抽出し、それらのデータをミニバッチという。  \n",
    "   \n",
    "2. **勾配算出**  \n",
    "  ミニバッチの損失関数の坂を下るために勾配を求める\n",
    "  \n",
    "3. **パラメータ更新**  \n",
    "  重みパラメータを勾配方向に微小量更新する\n",
    "\n",
    "4. **繰り返し**  \n",
    "  上記を繰り返す"
   ]
  },
  {
   "cell_type": "markdown",
   "metadata": {},
   "source": [
    "## 3層NNの実装\n",
    "\n",
    "図ch004-1:3層ニューラルネットワーク  \n",
    "(バイアスは図字されていない)\n",
    "\n",
    "<img border=\"0\" src=\"./images/neural_network_3layer.png\" width=\"512\" height=\"512\" alt=\"イラスト1\">"
   ]
  },
  {
   "cell_type": "code",
   "execution_count": 1,
   "metadata": {},
   "outputs": [],
   "source": [
    "# import 教材のcommonライブラリを使わせて頂く 、教材では二層NNを実装している networks/two_layer_net.py参照\n",
    "# 以下と同じコードをnetworks/three_layer_net.pyとして格納している\n",
    "import numpy as np\n",
    "import sys, os\n",
    "sys.path.append(os.pardir)\n",
    "from common.functions import *\n",
    "from common.gradient import numerical_gradient\n",
    "\n",
    "class ThreeLayerNet:\n",
    "    # 初期化関数 NNのパラメータの初期値設定を行う\n",
    "    def __init__(self, size = {'in': 10, 'hidden1': 10, 'hidden2': 10, 'out': 10},\n",
    "                 weight_init_std=0.01, experiment={'init_param': False, 'func': False}):\n",
    "        self.params = {}\n",
    "        self.experiment = experiment\n",
    "        # 重みの初期化\n",
    "        # experiment[0]がTrueの時に、重みの初期値を全てゼロにする\n",
    "        # paramsはNNの重みとバイアスを保持するインスタンス変数\n",
    "        if self.experiment['init_param'] == False:\n",
    "            self.params['W1'] = weight_init_std * np.random.randn(size['in'], size['hidden1'])\n",
    "            self.params['b1'] = np.zeros(size['hidden1'])\n",
    "            self.params['W2'] = weight_init_std * np.random.randn(size['hidden1'], size['hidden2'])\n",
    "            self.params['b2'] = np.zeros(size['hidden2'])\n",
    "            self.params['W3'] = weight_init_std * np.random.randn(size['hidden2'], size['out'])\n",
    "            self.params['b3'] = np.zeros(size['out'])\n",
    "        else:\n",
    "            self.params['W1'] = weight_init_std * np.zeros((size['in'], size['hidden1']))\n",
    "            self.params['b1'] = np.zeros(size['hidden1'])\n",
    "            self.params['W2'] = weight_init_std * np.zeros((size['hidden1'], size['hidden2']))\n",
    "            self.params['b2'] = np.zeros(size['hidden2'])\n",
    "            self.params['W3'] = weight_init_std * np.zeros((size['hidden2'], size['out']))\n",
    "            self.params['b3'] = np.zeros(size['out'])\n",
    "    \n",
    "    # 推論を行う\n",
    "    def predict(self, input_data):\n",
    "        W1, W2, W3 = self.params['W1'], self.params['W2'], self.params['W3']\n",
    "        b1, b2, b3 = self.params['b1'], self.params['b2'], self.params['b3']\n",
    "        \n",
    "        a1 = np.dot(input_data, W1) + b1\n",
    "        if self.experiment['func'] == False:\n",
    "            z1=sigmoid(a1)\n",
    "        else:\n",
    "            z1=a1\n",
    "        a2 = np.dot(z1, W2) + b2\n",
    "        if self.experiment['func'] == False:\n",
    "            z2=sigmoid(a2)\n",
    "        else:\n",
    "            z2=a2\n",
    "        a3 = np.dot(z2, W3) + b3\n",
    "        output_data = softmax(a3)\n",
    "        \n",
    "        return output_data\n",
    "    \n",
    "    # 損失関数の値を求める\n",
    "    def loss(self, x, t):\n",
    "        y = self.predict(x)\n",
    "        \n",
    "        return cross_entropy_error(y, t)\n",
    "    \n",
    "    # 認識精度\n",
    "    def accuracy(self, x, t):\n",
    "        y = self.predict(x)\n",
    "        # argmaxは配列内の最大要素の位置を返す\n",
    "        y = np.argmax(y, axis=1)\n",
    "        t = np.argmax(t, axis=1)\n",
    "        \n",
    "        accuracy = np.sum(y == t) / float(x.shape[0])\n",
    "        return accuracy\n",
    "    \n",
    "    # 重みパラメータに対する勾配を求める\n",
    "    def numerical_gradient(self, x, t):\n",
    "        loss_W = lambda W: self.loss(x, t)\n",
    "            \n",
    "        grads = {}\n",
    "        grads['W1'] = numerical_gradient(loss_W, self.params['W1'])\n",
    "        grads['b1'] = numerical_gradient(loss_W, self.params['b1'])\n",
    "        grads['W2'] = numerical_gradient(loss_W, self.params['W2'])\n",
    "        grads['b2'] = numerical_gradient(loss_W, self.params['b2'])\n",
    "        grads['W3'] = numerical_gradient(loss_W, self.params['W3'])\n",
    "        grads['b3'] = numerical_gradient(loss_W, self.params['b3'])\n",
    "        \n",
    "        return grads\n",
    "    \n",
    "    # 高速化版　次の章の内容含む\n",
    "    def gradient(self, x, t):\n",
    "        W1, W2, W3 = self.params['W1'], self.params['W2'], self.params['W3']\n",
    "        b1, b2, b3 = self.params['b1'], self.params['b2'], self.params['b3']\n",
    "        grads = {}\n",
    "        \n",
    "        batch_num = x.shape[0]\n",
    "        \n",
    "        # forward\n",
    "        a1 = np.dot(x, W1) + b1\n",
    "        if self.experiment['func'] == False:\n",
    "            z1=sigmoid(a1)\n",
    "        else:\n",
    "            z1=a1\n",
    "        a2 = np.dot(z1, W2) + b2\n",
    "        if self.experiment['func'] == False:\n",
    "            z2=sigmoid(a2)\n",
    "        else:\n",
    "            z2=a2\n",
    "        a3 = np.dot(z2, W3) + b3\n",
    "        y = softmax(a3)\n",
    "        \n",
    "        # backward\n",
    "        dy = (y - t) / batch_num\n",
    "        \n",
    "        grads['W3'] = np.dot(z2.T, dy)\n",
    "        grads['b3'] = np.sum(dy, axis=0)\n",
    "      \n",
    "        dz2 = np.dot(dy, W3.T)\n",
    "        da2 = sigmoid_grad(a2) * dz2\n",
    "        grads['W2'] = np.dot(z1.T, da2)\n",
    "        grads['b2'] = np.sum(da2, axis=0)\n",
    "        \n",
    "        dz1 = np.dot(da2, W2.T)\n",
    "        da1 = sigmoid_grad(a1) * dz1\n",
    "        grads['W1'] = np.dot(x.T, da1)\n",
    "        grads['b1'] = np.sum(da1, axis=0)\n",
    "\n",
    "        return grads"
   ]
  },
  {
   "cell_type": "markdown",
   "metadata": {},
   "source": [
    "## MNISTデータセット\n",
    "\n",
    "数字画像のデータセットで訓練画像とテスト画像を利用して学習と推論を実施出来る。  \n",
    "ちょろっと調べた所、[keras](https://keras.io/ja/)というライブラリでMNISTを手軽に使えるらスィ。  \n",
    "ここは本と少し違うやり方でMNISTを読み込んでいる。"
   ]
  },
  {
   "cell_type": "code",
   "execution_count": 2,
   "metadata": {},
   "outputs": [
    {
     "name": "stderr",
     "output_type": "stream",
     "text": [
      "Using TensorFlow backend.\n"
     ]
    },
    {
     "name": "stdout",
     "output_type": "stream",
     "text": [
      "(60000, 784)\n",
      "(60000, 10)\n",
      "(10000, 784)\n",
      "(10000, 10)\n"
     ]
    }
   ],
   "source": [
    "from keras.datasets import mnist\n",
    "from keras.utils.np_utils import to_categorical\n",
    "(x_train, t_train), (x_test, t_test) = mnist.load_data()\n",
    "\n",
    "x_train = x_train.reshape(60000, 784) / 255.0\n",
    "x_test = x_test.reshape(10000, 784) / 255.0\n",
    "\n",
    "# encoding\n",
    "t_train = to_categorical(t_train, 10)\n",
    "t_test =  to_categorical(t_test, 10)\n",
    "\n",
    "print(x_train.shape) # 学習用画像データ\n",
    "print(t_train.shape) # 学習用画像データのラベル\n",
    "print(x_test.shape)  # テスト用画像データ\n",
    "print(t_test.shape)  # テスト用画像データのラベル\n",
    "\n",
    "# 画像を表示してみる Pillowというライブラリを使って配列から画像に変換する\n",
    "# pip install pillowで入れる\n",
    "from PIL import Image\n",
    "\n",
    "def img_show(img):\n",
    "    pil_img = Image.fromarray(np.uint8(img))\n",
    "    pil_img.show()\n",
    "\n",
    "#img_show(x_train[0]) #これを実行すると画像が出てくる"
   ]
  },
  {
   "cell_type": "markdown",
   "metadata": {},
   "source": [
    "## ミニバッチ学習\n",
    "\n",
    "訓練データから無作為に一部のデータを取り出したものをミニバッチという。\n",
    "ミニバッチに対して学習を行う。"
   ]
  },
  {
   "cell_type": "code",
   "execution_count": 3,
   "metadata": {},
   "outputs": [],
   "source": [
    "import numpy as np\n",
    "import matplotlib.pyplot as plt\n",
    "from network.two_layer_net import TwoLayerNet\n",
    "\n",
    "class TrainNeuralNet:\n",
    "    \n",
    "    def __init__(self, iteration=10000, train_size=60000, batch_size=100, learning_rate=0.1, \n",
    "                 size={'in': 784, 'hidden1': 50, 'hidden2': 100, 'out': 10}, \n",
    "                 experiment={'init_param': False, 'func': False, 'layer': False}, \n",
    "                 x_train=[], t_train=[], x_test=[], t_test=[]):\n",
    "        train_loss_list = []\n",
    "        train_acc_list = []\n",
    "        test_acc_list = []\n",
    "        # 1エポック辺りの繰り返し数\n",
    "        iter_per_epoch = max(train_size / batch_size, 1)\n",
    "        \n",
    "        if experiment['layer'] == False:\n",
    "            network = ThreeLayerNet(size=size, experiment=experiment)\n",
    "            keys = ['W1', 'b1', 'W2', 'b2', 'W3', 'b3']\n",
    "        else:\n",
    "            network = TwoLayerNet(input_size=size['in'], hidden_size=size['hidden1'], output_size=size['out'])\n",
    "            keys = ['W1', 'b1', 'W2', 'b2']\n",
    "            \n",
    "        for i in range(iteration):\n",
    "            # ミニバッチ取得\n",
    "            batch_mask = np.random.choice(train_size, batch_size)\n",
    "            x_batch = x_train[batch_mask]\n",
    "            t_batch = t_train[batch_mask]\n",
    "            \n",
    "            # 勾配計算\n",
    "            # grad = network.numerical_gradient(x_batch, t_batch)\n",
    "            grad = network.gradient(x_batch, t_batch)\n",
    "            \n",
    "            # パラメータ更新\n",
    "            \n",
    "            for key in keys:\n",
    "                network.params[key] -= learning_rate * grad[key]\n",
    "            \n",
    "            loss = network.loss(x_batch, t_batch)\n",
    "            train_loss_list.append(loss)\n",
    "            \n",
    "            # 1エポックごとに認識率を計算\n",
    "            if i % iter_per_epoch == 0:\n",
    "                train_acc = network.accuracy(x_train, t_train)\n",
    "                test_acc = network.accuracy(x_test, t_test)\n",
    "                train_acc_list.append(train_acc)\n",
    "                test_acc_list.append(test_acc)\n",
    "                print(\"train acc, test acc | \" + str(train_acc) + \", \" + str(test_acc))\n",
    "                \n",
    "        # グラフの描画\n",
    "        markers = {'train': 'o', 'test': 's'}\n",
    "        x = np.arange(len(train_acc_list))\n",
    "        plt.plot(x, train_acc_list, label='train acc')\n",
    "        plt.plot(x, test_acc_list, label='test acc', linestyle='--')\n",
    "        plt.xlabel(\"epochs\")\n",
    "        plt.ylabel(\"accuracy\")\n",
    "        plt.ylim(0, 1.0)\n",
    "        plt.legend(loc='lower right')\n",
    "        plt.show()\n",
    "             "
   ]
  },
  {
   "cell_type": "code",
   "execution_count": 4,
   "metadata": {},
   "outputs": [
    {
     "name": "stdout",
     "output_type": "stream",
     "text": [
      "train acc, test acc | 0.10218333333333333, 0.101\n",
      "train acc, test acc | 0.8039666666666667, 0.8083\n",
      "train acc, test acc | 0.8787333333333334, 0.8842\n",
      "train acc, test acc | 0.8995333333333333, 0.9053\n",
      "train acc, test acc | 0.9097833333333334, 0.9127\n",
      "train acc, test acc | 0.9140333333333334, 0.917\n",
      "train acc, test acc | 0.9191333333333334, 0.9224\n",
      "train acc, test acc | 0.9244, 0.9257\n",
      "train acc, test acc | 0.92725, 0.9305\n",
      "train acc, test acc | 0.92975, 0.9304\n",
      "train acc, test acc | 0.9335333333333333, 0.9333\n",
      "train acc, test acc | 0.9355666666666667, 0.9363\n",
      "train acc, test acc | 0.9389333333333333, 0.9371\n",
      "train acc, test acc | 0.94065, 0.9389\n",
      "train acc, test acc | 0.94305, 0.9417\n",
      "train acc, test acc | 0.945, 0.9423\n",
      "train acc, test acc | 0.94685, 0.9436\n"
     ]
    },
    {
     "data": {
      "image/png": "[encoded data removed]",
      "text/plain": [
       "<Figure size 432x288 with 1 Axes>"
      ]
     },
     "metadata": {},
     "output_type": "display_data"
    },
    {
     "data": {
      "text/plain": [
       "<__main__.TrainNeuralNet at 0x1389d7710>"
      ]
     },
     "execution_count": 4,
     "metadata": {},
     "output_type": "execute_result"
    }
   ],
   "source": [
    "# 2層NN default\n",
    "# 認識精度 0.9467166666666667\n",
    "TrainNeuralNet(x_train=x_train, t_train=t_train, x_test=x_test, t_test=t_test, experiment={'layer': True})"
   ]
  },
  {
   "cell_type": "code",
   "execution_count": 5,
   "metadata": {},
   "outputs": [
    {
     "name": "stdout",
     "output_type": "stream",
     "text": [
      "train acc, test acc | 0.11236666666666667, 0.1135\n",
      "train acc, test acc | 0.09751666666666667, 0.0974\n",
      "train acc, test acc | 0.0993, 0.1032\n",
      "train acc, test acc | 0.09736666666666667, 0.0982\n",
      "train acc, test acc | 0.10218333333333333, 0.101\n",
      "train acc, test acc | 0.09915, 0.1009\n",
      "train acc, test acc | 0.15245, 0.1538\n",
      "train acc, test acc | 0.3012, 0.3077\n",
      "train acc, test acc | 0.40163333333333334, 0.4111\n",
      "train acc, test acc | 0.54965, 0.5551\n",
      "train acc, test acc | 0.7501833333333333, 0.7567\n",
      "train acc, test acc | 0.8202, 0.827\n",
      "train acc, test acc | 0.8527166666666667, 0.8583\n",
      "train acc, test acc | 0.8702666666666666, 0.8735\n",
      "train acc, test acc | 0.8833666666666666, 0.8859\n",
      "train acc, test acc | 0.8947666666666667, 0.8952\n",
      "train acc, test acc | 0.9057166666666666, 0.9073\n"
     ]
    },
    {
     "data": {
      "image/png": "[encoded data removed]",
      "text/plain": [
       "<Figure size 432x288 with 1 Axes>"
      ]
     },
     "metadata": {},
     "output_type": "display_data"
    },
    {
     "data": {
      "text/plain": [
       "<__main__.TrainNeuralNet at 0x1389d7630>"
      ]
     },
     "execution_count": 5,
     "metadata": {},
     "output_type": "execute_result"
    }
   ],
   "source": [
    "# 3層NN default\n",
    "# 認識精度 0.9066833333333333\n",
    "TrainNeuralNet(x_train=x_train, t_train=t_train, x_test=x_test, t_test=t_test )"
   ]
  },
  {
   "cell_type": "code",
   "execution_count": 6,
   "metadata": {},
   "outputs": [
    {
     "name": "stdout",
     "output_type": "stream",
     "text": [
      "train acc, test acc | 0.09915, 0.1009\n",
      "train acc, test acc | 0.11236666666666667, 0.1135\n",
      "train acc, test acc | 0.09751666666666667, 0.0974\n",
      "train acc, test acc | 0.10441666666666667, 0.1028\n",
      "train acc, test acc | 0.11236666666666667, 0.1135\n",
      "train acc, test acc | 0.11236666666666667, 0.1135\n",
      "train acc, test acc | 0.09863333333333334, 0.0958\n",
      "train acc, test acc | 0.11236666666666667, 0.1135\n",
      "train acc, test acc | 0.11236666666666667, 0.1135\n",
      "train acc, test acc | 0.11335, 0.1154\n",
      "train acc, test acc | 0.23771666666666666, 0.2398\n",
      "train acc, test acc | 0.29175, 0.2959\n",
      "train acc, test acc | 0.3224166666666667, 0.3289\n",
      "train acc, test acc | 0.32705, 0.3324\n",
      "train acc, test acc | 0.34446666666666664, 0.3523\n",
      "train acc, test acc | 0.34255, 0.3451\n",
      "train acc, test acc | 0.3416166666666667, 0.3447\n"
     ]
    },
    {
     "data": {
      "image/png": "[encoded data removed]",
      "text/plain": [
       "<Figure size 432x288 with 1 Axes>"
      ]
     },
     "metadata": {},
     "output_type": "display_data"
    },
    {
     "data": {
      "text/plain": [
       "<__main__.TrainNeuralNet at 0x10a651b70>"
      ]
     },
     "execution_count": 6,
     "metadata": {},
     "output_type": "execute_result"
    }
   ],
   "source": [
    "# 3層NN 重みの初期値をゼロにしてみる\n",
    "# 認識精度 0.3489833333333333\n",
    "# 次章で説明するが、重みの初期値を均一にしてしまうと学習がうまく行かない\n",
    "experiment={'init_param': True, 'layer': False, 'func': False}\n",
    "TrainNeuralNet(x_train=x_train, t_train=t_train, x_test=x_test, t_test=t_test, experiment=experiment)"
   ]
  },
  {
   "cell_type": "code",
   "execution_count": 7,
   "metadata": {},
   "outputs": [
    {
     "name": "stdout",
     "output_type": "stream",
     "text": [
      "train acc, test acc | 0.10746666666666667, 0.1136\n",
      "train acc, test acc | 0.2436, 0.247\n",
      "train acc, test acc | 0.7061333333333333, 0.7091\n",
      "train acc, test acc | 0.8329666666666666, 0.8358\n",
      "train acc, test acc | 0.8573666666666667, 0.8588\n",
      "train acc, test acc | 0.8825166666666666, 0.8809\n",
      "train acc, test acc | 0.8942, 0.895\n",
      "train acc, test acc | 0.8999166666666667, 0.9006\n",
      "train acc, test acc | 0.9043, 0.9054\n",
      "train acc, test acc | 0.9055666666666666, 0.9066\n",
      "train acc, test acc | 0.9069833333333334, 0.9072\n",
      "train acc, test acc | 0.9079666666666667, 0.9076\n",
      "train acc, test acc | 0.9100666666666667, 0.9103\n",
      "train acc, test acc | 0.9116333333333333, 0.912\n",
      "train acc, test acc | 0.9135666666666666, 0.9133\n",
      "train acc, test acc | 0.9154333333333333, 0.9148\n",
      "train acc, test acc | 0.9162166666666667, 0.9157\n"
     ]
    },
    {
     "data": {
      "image/png": "[encoded data removed]",
      "text/plain": [
       "<Figure size 432x288 with 1 Axes>"
      ]
     },
     "metadata": {},
     "output_type": "display_data"
    },
    {
     "data": {
      "text/plain": [
       "<__main__.TrainNeuralNet at 0x10aabb978>"
      ]
     },
     "execution_count": 7,
     "metadata": {},
     "output_type": "execute_result"
    }
   ],
   "source": [
    "# 3層NN シグモイド関数を適用しない\n",
    "# 認識精度 0.9140166666666667\n",
    "experiment={'init_param': False, 'layer': False, 'func': True}\n",
    "TrainNeuralNet(x_train=x_train, t_train=t_train, x_test=x_test, t_test=t_test, experiment=experiment)"
   ]
  },
  {
   "cell_type": "code",
   "execution_count": 8,
   "metadata": {},
   "outputs": [
    {
     "name": "stdout",
     "output_type": "stream",
     "text": [
      "train acc, test acc | 0.09751666666666667, 0.0974\n",
      "train acc, test acc | 0.4370833333333333, 0.4338\n",
      "train acc, test acc | 0.8904666666666666, 0.8914\n",
      "train acc, test acc | 0.9321166666666667, 0.9276\n",
      "train acc, test acc | 0.94685, 0.9438\n",
      "train acc, test acc | 0.9577166666666667, 0.9512\n",
      "train acc, test acc | 0.9611333333333333, 0.9541\n",
      "train acc, test acc | 0.9665833333333333, 0.9581\n",
      "train acc, test acc | 0.9695166666666667, 0.9585\n",
      "train acc, test acc | 0.9706833333333333, 0.9617\n",
      "train acc, test acc | 0.97635, 0.966\n",
      "train acc, test acc | 0.976, 0.9635\n",
      "train acc, test acc | 0.97945, 0.9647\n",
      "train acc, test acc | 0.98035, 0.9669\n",
      "train acc, test acc | 0.9845333333333334, 0.9684\n",
      "train acc, test acc | 0.9849833333333333, 0.9683\n",
      "train acc, test acc | 0.9867, 0.9674\n"
     ]
    },
    {
     "data": {
      "image/png": "[encoded data removed]",
      "text/plain": [
       "<Figure size 432x288 with 1 Axes>"
      ]
     },
     "metadata": {},
     "output_type": "display_data"
    },
    {
     "data": {
      "text/plain": [
       "<__main__.TrainNeuralNet at 0x10a6517f0>"
      ]
     },
     "execution_count": 8,
     "metadata": {},
     "output_type": "execute_result"
    }
   ],
   "source": [
    "# 3層NN 学習率=1\n",
    "# 認識精度 0.9876333333333334\n",
    "# 若干過学習\n",
    "TrainNeuralNet(x_train=x_train, t_train=t_train, x_test=x_test, t_test=t_test, learning_rate=1)"
   ]
  },
  {
   "cell_type": "code",
   "execution_count": 9,
   "metadata": {},
   "outputs": [
    {
     "name": "stdout",
     "output_type": "stream",
     "text": [
      "train acc, test acc | 0.10218333333333333, 0.101\n",
      "train acc, test acc | 0.10441666666666667, 0.1028\n",
      "train acc, test acc | 0.10218333333333333, 0.101\n",
      "train acc, test acc | 0.19955, 0.203\n",
      "train acc, test acc | 0.3526, 0.3531\n",
      "train acc, test acc | 0.5532666666666667, 0.5581\n",
      "train acc, test acc | 0.7233333333333334, 0.7285\n",
      "train acc, test acc | 0.7888333333333334, 0.7938\n",
      "train acc, test acc | 0.8256666666666667, 0.8314\n",
      "train acc, test acc | 0.8505666666666667, 0.8518\n",
      "train acc, test acc | 0.8637, 0.8661\n",
      "train acc, test acc | 0.8755833333333334, 0.8772\n",
      "train acc, test acc | 0.8886666666666667, 0.8889\n",
      "train acc, test acc | 0.89765, 0.8965\n",
      "train acc, test acc | 0.9044666666666666, 0.9042\n",
      "train acc, test acc | 0.9115, 0.9113\n",
      "train acc, test acc | 0.9168666666666667, 0.917\n"
     ]
    },
    {
     "data": {
      "image/png": "[encoded data removed]",
      "text/plain": [
       "<Figure size 432x288 with 1 Axes>"
      ]
     },
     "metadata": {},
     "output_type": "display_data"
    },
    {
     "data": {
      "text/plain": [
       "<__main__.TrainNeuralNet at 0x11c483da0>"
      ]
     },
     "execution_count": 9,
     "metadata": {},
     "output_type": "execute_result"
    }
   ],
   "source": [
    "# 3層NN 隠れ層のサイズ変更\n",
    "# 認識精度 0.9157833333333333\n",
    "size={'in': 784, 'hidden1': 200, 'hidden2': 200, 'out': 10}\n",
    "TrainNeuralNet(x_train=x_train, t_train=t_train, x_test=x_test, t_test=t_test, size=size)"
   ]
  },
  {
   "cell_type": "code",
   "execution_count": 10,
   "metadata": {},
   "outputs": [
    {
     "name": "stdout",
     "output_type": "stream",
     "text": [
      "train acc, test acc | 0.09915, 0.1009\n",
      "train acc, test acc | 0.3244166666666667, 0.3359\n",
      "train acc, test acc | 0.8678833333333333, 0.8691\n",
      "train acc, test acc | 0.92215, 0.9218\n",
      "train acc, test acc | 0.9384833333333333, 0.9363\n",
      "train acc, test acc | 0.9428666666666666, 0.9377\n",
      "train acc, test acc | 0.9604333333333334, 0.957\n",
      "train acc, test acc | 0.9668333333333333, 0.9603\n",
      "train acc, test acc | 0.9705, 0.9644\n",
      "train acc, test acc | 0.97285, 0.9667\n",
      "train acc, test acc | 0.9786166666666667, 0.9697\n",
      "train acc, test acc | 0.9775833333333334, 0.9672\n",
      "train acc, test acc | 0.9825166666666667, 0.9718\n",
      "train acc, test acc | 0.9858166666666667, 0.9741\n",
      "train acc, test acc | 0.9877333333333334, 0.975\n",
      "train acc, test acc | 0.98835, 0.9749\n",
      "train acc, test acc | 0.9891, 0.9759\n"
     ]
    },
    {
     "data": {
      "image/png": "[encoded data removed]",
      "text/plain": [
       "<Figure size 432x288 with 1 Axes>"
      ]
     },
     "metadata": {},
     "output_type": "display_data"
    },
    {
     "data": {
      "text/plain": [
       "<__main__.TrainNeuralNet at 0x10a651518>"
      ]
     },
     "execution_count": 10,
     "metadata": {},
     "output_type": "execute_result"
    }
   ],
   "source": [
    "# 3層NN 隠れ層のサイズ変更+学習率=1\n",
    "# 認識精度 0.9882333333333333\n",
    "size={'in': 784, 'hidden1': 200, 'hidden2': 200, 'out': 10}\n",
    "TrainNeuralNet(x_train=x_train, t_train=t_train, x_test=x_test, t_test=t_test, size=size, learning_rate=1)"
   ]
  }
 ],
 "metadata": {
  "kernelspec": {
   "display_name": "Python 3",
   "language": "python",
   "name": "python3"
  },
  "language_info": {
   "codemirror_mode": {
    "name": "ipython",
    "version": 3
   },
   "file_extension": ".py",
   "mimetype": "text/x-python",
   "name": "python",
   "nbconvert_exporter": "python",
   "pygments_lexer": "ipython3",
   "version": "3.5.1"
  }
 },
 "nbformat": 4,
 "nbformat_minor": 2
}
