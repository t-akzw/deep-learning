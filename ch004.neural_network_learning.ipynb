{
 "cells": [
  {
   "cell_type": "markdown",
   "metadata": {},
   "source": [
    "## ニューラルネットワークの学習\n",
    "\n",
    "NNの学習とは、重みとバイアスを訓練データに適応させるように調整する、「教師あり学習」である。  \n",
    "\n",
    "NNの学習は、何を指標として、どのように適応させるのか。  \n",
    "- 指標 = 損失関数（二乗和誤差、クロスエントロピー誤差、など）\n",
    "- 適応 = 最適化問題（最急降下法、確率的勾配降下法、焼きなまし法、など）  \n",
    "  この辺りがイジングモデルを計算する[D-wave](https://www.dwavesys.com/home)とかに関わってくるのかな^^  \n",
    "  爆速で学習するみたいな。最適化問題は計算負荷がめちゃくちゃ高そう。  \n",
    "\n",
    "用語：\n",
    "- **損失関数**   \n",
    "  学習が悪いということを評価する指標。 **微分できることが重要**  \n",
    "  学習に使う全ての訓練データとNNの出力の比較を行ってそれらの和をとるので、データ量が多い場合は現実的でなくなる。    \n",
    "  そのため、ミニバッチ学習という手法を使う。 \n",
    "- **最適化問題 **  \n",
    "  エネルギー最小化問題ともいうらすぃ。  \n",
    "  球を坂の上に置くと、位置エネルギーが運動エネルギーになって転がっていくが、安定する位置で止まる。  \n",
    "  このように損失関数という坂道を安定状態(=微分した値が0)に持っていく。\n",
    "- **クロスエントロピー誤差**  \n",
    "  ソフトマックスと組み合わせて分類問題で使われるっぽい  \n",
    "  確率が低いほど必要な情報量が多い、つまりソフトマックスの結果の出力値が小さいほどクロスエントロピー誤差の値が大きくなる  \n",
    "  [クロスエントロピーについてわかりやすい記事](http://nihaoshijie.hatenadiary.jp/entry/2017/04/26/062304) "
   ]
  },
  {
   "cell_type": "markdown",
   "metadata": {},
   "source": [
    "## NNの学習手順\n",
    "\n",
    "1. **ミニバッチ**  \n",
    "  訓練データの中から一部のデータを無作為抽出し、それらのデータをミニバッチという。  \n",
    "   \n",
    "2. **勾配算出**  \n",
    "  ミニバッチの損失関数の坂を下るために勾配を求める\n",
    "  \n",
    "3. **パラメータ更新**  \n",
    "  重みパラメータを勾配方向に微小量更新する\n",
    "\n",
    "4. **繰り返し**  \n",
    "  上記を繰り返す"
   ]
  },
  {
   "cell_type": "markdown",
   "metadata": {},
   "source": [
    "## 3層NNの実装\n",
    "\n",
    "図ch004-1:3層ニューラルネットワーク  \n",
    "(バイアスは図字されていない)\n",
    "\n",
    "<img border=\"0\" src=\"./images/neural_network_3layer.png\" width=\"512\" height=\"512\" alt=\"イラスト1\">"
   ]
  },
  {
   "cell_type": "code",
   "execution_count": 1,
   "metadata": {},
   "outputs": [],
   "source": [
    "# import 教材のcommonライブラリを使わせて頂く 、教材では二層NNを実装している networks/two_layer_net.py参照\n",
    "# 以下と同じコードをnetworks/three_layer_net.pyとして格納している\n",
    "import numpy as np\n",
    "import sys, os\n",
    "sys.path.append(os.pardir)\n",
    "from common.functions import *\n",
    "from common.gradient import numerical_gradient\n",
    "\n",
    "class ThreeLayerNet:\n",
    "    # 初期化関数 NNのパラメータの初期値設定を行う\n",
    "    def __init__(self, size = {'in': 10, 'hidden1': 10, 'hidden2': 10, 'out': 10},\n",
    "                 weight_init_std=0.01, experiment={'init_param': False, 'func': False}):\n",
    "        self.params = {}\n",
    "        self.experiment = experiment\n",
    "        # 重みの初期化\n",
    "        # experiment[0]がTrueの時に、重みの初期値を全てゼロにする\n",
    "        # paramsはNNの重みとバイアスを保持するインスタンス変数\n",
    "        if self.experiment['init_param'] == False:\n",
    "            self.params['W1'] = weight_init_std * np.random.randn(size['in'], size['hidden1'])\n",
    "            self.params['b1'] = np.zeros(size['hidden1'])\n",
    "            self.params['W2'] = weight_init_std * np.random.randn(size['hidden1'], size['hidden2'])\n",
    "            self.params['b2'] = np.zeros(size['hidden2'])\n",
    "            self.params['W3'] = weight_init_std * np.random.randn(size['hidden2'], size['out'])\n",
    "            self.params['b3'] = np.zeros(size['out'])\n",
    "        else:\n",
    "            self.params['W1'] = weight_init_std * np.zeros((size['in'], size['hidden1']))\n",
    "            self.params['b1'] = np.zeros(size['hidden1'])\n",
    "            self.params['W2'] = weight_init_std * np.zeros((size['hidden1'], size['hidden2']))\n",
    "            self.params['b2'] = np.zeros(size['hidden2'])\n",
    "            self.params['W3'] = weight_init_std * np.zeros((size['hidden2'], size['out']))\n",
    "            self.params['b3'] = np.zeros(size['out'])\n",
    "    \n",
    "    # 推論を行う\n",
    "    def predict(self, input_data):\n",
    "        W1, W2, W3 = self.params['W1'], self.params['W2'], self.params['W3']\n",
    "        b1, b2, b3 = self.params['b1'], self.params['b2'], self.params['b3']\n",
    "        \n",
    "        a1 = np.dot(input_data, W1) + b1\n",
    "        if self.experiment['func'] == False:\n",
    "            z1=sigmoid(a1)\n",
    "        else:\n",
    "            z1=a1\n",
    "        a2 = np.dot(z1, W2) + b2\n",
    "        if self.experiment['func'] == False:\n",
    "            z2=sigmoid(a2)\n",
    "        else:\n",
    "            z2=a2\n",
    "        a3 = np.dot(z2, W3) + b3\n",
    "        output_data = softmax(a3)\n",
    "        \n",
    "        return output_data\n",
    "    \n",
    "    # 損失関数の値を求める\n",
    "    def loss(self, x, t):\n",
    "        y = self.predict(x)\n",
    "        \n",
    "        return cross_entropy_error(y, t)\n",
    "    \n",
    "    # 認識精度\n",
    "    def accuracy(self, x, t):\n",
    "        y = self.predict(x)\n",
    "        # argmaxは配列内の最大要素の位置を返す\n",
    "        y = np.argmax(y, axis=1)\n",
    "        t = np.argmax(t, axis=1)\n",
    "        \n",
    "        accuracy = np.sum(y == t) / float(x.shape[0])\n",
    "        return accuracy\n",
    "    \n",
    "    # 重みパラメータに対する勾配を求める\n",
    "    def numerical_gradient(self, x, t):\n",
    "        loss_W = lambda W: self.loss(x, t)\n",
    "            \n",
    "        grads = {}\n",
    "        grads['W1'] = numerical_gradient(loss_W, self.params['W1'])\n",
    "        grads['b1'] = numerical_gradient(loss_W, self.params['b1'])\n",
    "        grads['W2'] = numerical_gradient(loss_W, self.params['W2'])\n",
    "        grads['b2'] = numerical_gradient(loss_W, self.params['b2'])\n",
    "        grads['W3'] = numerical_gradient(loss_W, self.params['W3'])\n",
    "        grads['b3'] = numerical_gradient(loss_W, self.params['b3'])\n",
    "        \n",
    "        return grads\n",
    "    \n",
    "    # 高速化版　次の章の内容含む\n",
    "    def gradient(self, x, t):\n",
    "        W1, W2, W3 = self.params['W1'], self.params['W2'], self.params['W3']\n",
    "        b1, b2, b3 = self.params['b1'], self.params['b2'], self.params['b3']\n",
    "        grads = {}\n",
    "        \n",
    "        batch_num = x.shape[0]\n",
    "        \n",
    "        # forward\n",
    "        a1 = np.dot(x, W1) + b1\n",
    "        if self.experiment['func'] == False:\n",
    "            z1=sigmoid(a1)\n",
    "        else:\n",
    "            z1=a1\n",
    "        a2 = np.dot(z1, W2) + b2\n",
    "        if self.experiment['func'] == False:\n",
    "            z2=sigmoid(a2)\n",
    "        else:\n",
    "            z2=a2\n",
    "        a3 = np.dot(z2, W3) + b3\n",
    "        y = softmax(a3)\n",
    "        \n",
    "        # backward\n",
    "        dy = (y - t) / batch_num\n",
    "        \n",
    "        grads['W3'] = np.dot(z2.T, dy)\n",
    "        grads['b3'] = np.sum(dy, axis=0)\n",
    "      \n",
    "        dz2 = np.dot(dy, W3.T)\n",
    "        da2 = sigmoid_grad(a2) * dz2\n",
    "        grads['W2'] = np.dot(z1.T, da2)\n",
    "        grads['b2'] = np.sum(da2, axis=0)\n",
    "        \n",
    "        dz1 = np.dot(da2, W2.T)\n",
    "        da1 = sigmoid_grad(a1) * dz1\n",
    "        grads['W1'] = np.dot(x.T, da1)\n",
    "        grads['b1'] = np.sum(da1, axis=0)\n",
    "\n",
    "        return grads"
   ]
  },
  {
   "cell_type": "markdown",
   "metadata": {},
   "source": [
    "## MNISTデータセット\n",
    "\n",
    "数字画像のデータセットで訓練画像とテスト画像を利用して学習と推論を実施出来る。  \n",
    "ちょろっと調べた所、[keras](https://keras.io/ja/)というライブラリでMNISTを手軽に使えるらスィ。  \n",
    "ここは本と少し違うやり方でMNISTを読み込んでいる。"
   ]
  },
  {
   "cell_type": "code",
   "execution_count": 2,
   "metadata": {},
   "outputs": [
    {
     "name": "stderr",
     "output_type": "stream",
     "text": [
      "Using TensorFlow backend.\n"
     ]
    },
    {
     "name": "stdout",
     "output_type": "stream",
     "text": [
      "(60000, 784)\n",
      "(60000, 10)\n",
      "(10000, 784)\n",
      "(10000, 10)\n"
     ]
    }
   ],
   "source": [
    "from keras.datasets import mnist\n",
    "from keras.utils.np_utils import to_categorical\n",
    "(x_train, t_train), (x_test, t_test) = mnist.load_data()\n",
    "\n",
    "x_train = x_train.reshape(60000, 784) / 255.0\n",
    "x_test = x_test.reshape(10000, 784) / 255.0\n",
    "\n",
    "# encoding\n",
    "t_train = to_categorical(t_train, 10)\n",
    "t_test =  to_categorical(t_test, 10)\n",
    "\n",
    "print(x_train.shape) # 学習用画像データ\n",
    "print(t_train.shape) # 学習用画像データのラベル\n",
    "print(x_test.shape)  # テスト用画像データ\n",
    "print(t_test.shape)  # テスト用画像データのラベル\n",
    "\n",
    "# 画像を表示してみる Pillowというライブラリを使って配列から画像に変換する\n",
    "# pip install pillowで入れる\n",
    "from PIL import Image\n",
    "\n",
    "def img_show(img):\n",
    "    pil_img = Image.fromarray(np.uint8(img))\n",
    "    pil_img.show()"
   ]
  },
  {
   "cell_type": "markdown",
   "metadata": {},
   "source": [
    "## ミニバッチ学習\n",
    "\n",
    "訓練データから無作為に一部のデータを取り出したものをミニバッチという。\n",
    "ミニバッチに対して学習を行う。"
   ]
  },
  {
   "cell_type": "code",
   "execution_count": 3,
   "metadata": {},
   "outputs": [],
   "source": [
    "import numpy as np\n",
    "import matplotlib.pyplot as plt\n",
    "from network.two_layer_net import TwoLayerNet\n",
    "\n",
    "class TrainNeuralNet:\n",
    "    \n",
    "    def __init__(self, iteration=10000, train_size=60000, batch_size=100, learning_rate=0.1, \n",
    "                 size={'in': 784, 'hidden1': 50, 'hidden2': 100, 'out': 10}, \n",
    "                 experiment={'init_param': False, 'func': False, 'layer': False}, \n",
    "                 x_train=[], t_train=[], x_test=[], t_test=[]):\n",
    "        train_loss_list = []\n",
    "        train_acc_list = []\n",
    "        test_acc_list = []\n",
    "        # 1エポック辺りの繰り返し数\n",
    "        iter_per_epoch = max(train_size / batch_size, 1)\n",
    "        \n",
    "        if experiment['layer'] == False:\n",
    "            network = ThreeLayerNet(size=size, experiment=experiment)\n",
    "            keys = ['W1', 'b1', 'W2', 'b2', 'W3', 'b3']\n",
    "        else:\n",
    "            network = TwoLayerNet(input_size=size['in'], hidden_size=size['hidden1'], output_size=size['out'])\n",
    "            keys = ['W1', 'b1', 'W2', 'b2']\n",
    "            \n",
    "        for i in range(iteration):\n",
    "            # ミニバッチ取得\n",
    "            batch_mask = np.random.choice(train_size, batch_size)\n",
    "            x_batch = x_train[batch_mask]\n",
    "            t_batch = t_train[batch_mask]\n",
    "\n",
    "            # 勾配計算\n",
    "            # grad = network.numerical_gradient(x_batch, t_batch)\n",
    "            grad = network.gradient(x_batch, t_batch)\n",
    "            \n",
    "            # パラメータ更新\n",
    "            for key in keys:\n",
    "                network.params[key] -= learning_rate * grad[key]\n",
    "            \n",
    "            loss = network.loss(x_batch, t_batch)\n",
    "            train_loss_list.append(loss)\n",
    "            \n",
    "            # 1エポックごとに認識率を計算\n",
    "            if i % iter_per_epoch == 0:\n",
    "                train_acc = network.accuracy(x_train, t_train)\n",
    "                test_acc = network.accuracy(x_test, t_test)\n",
    "                train_acc_list.append(train_acc)\n",
    "                test_acc_list.append(test_acc)\n",
    "                print(\"train acc, test acc | \" + str(train_acc) + \", \" + str(test_acc))\n",
    "                \n",
    "        # グラフの描画\n",
    "        markers = {'train': 'o', 'test': 's'}\n",
    "        x = np.arange(len(train_acc_list))\n",
    "        plt.plot(x, train_acc_list, label='train acc')\n",
    "        plt.plot(x, test_acc_list, label='test acc', linestyle='--')\n",
    "        plt.xlabel(\"epochs\")\n",
    "        plt.ylabel(\"accuracy\")\n",
    "        plt.ylim(0, 1.0)\n",
    "        plt.legend(loc='lower right')\n",
    "        plt.show()\n",
    "             "
   ]
  },
  {
   "cell_type": "code",
   "execution_count": 4,
   "metadata": {},
   "outputs": [
    {
     "name": "stdout",
     "output_type": "stream",
     "text": [
      "train acc, test acc | 0.11236666666666667, 0.1135\n",
      "train acc, test acc | 0.7853166666666667, 0.7899\n",
      "train acc, test acc | 0.87275, 0.8767\n",
      "train acc, test acc | 0.8966166666666666, 0.9009\n",
      "train acc, test acc | 0.907, 0.9097\n",
      "train acc, test acc | 0.9143333333333333, 0.9165\n",
      "train acc, test acc | 0.9193166666666667, 0.9207\n",
      "train acc, test acc | 0.9243833333333333, 0.9246\n",
      "train acc, test acc | 0.9282833333333333, 0.9309\n",
      "train acc, test acc | 0.9313666666666667, 0.9333\n",
      "train acc, test acc | 0.9344, 0.9347\n",
      "train acc, test acc | 0.9371, 0.9378\n",
      "train acc, test acc | 0.9398, 0.9404\n",
      "train acc, test acc | 0.9417166666666666, 0.9418\n",
      "train acc, test acc | 0.9441166666666667, 0.9442\n",
      "train acc, test acc | 0.9457333333333333, 0.9451\n",
      "train acc, test acc | 0.9474333333333333, 0.9466\n"
     ]
    },
    {
     "data": {
      "image/png": "[encoded data removed]",
      "text/plain": [
       "<Figure size 432x288 with 1 Axes>"
      ]
     },
     "metadata": {},
     "output_type": "display_data"
    },
    {
     "data": {
      "text/plain": [
       "<__main__.TrainNeuralNet at 0x1178672b0>"
      ]
     },
     "execution_count": 4,
     "metadata": {},
     "output_type": "execute_result"
    }
   ],
   "source": [
    "# 2層NN default\n",
    "# 認識精度 0.9467166666666667\n",
    "TrainNeuralNet(x_train=x_train, t_train=t_train, x_test=x_test, t_test=t_test, experiment={'layer': True})"
   ]
  },
  {
   "cell_type": "code",
   "execution_count": 5,
   "metadata": {},
   "outputs": [
    {
     "name": "stdout",
     "output_type": "stream",
     "text": [
      "train acc, test acc | 0.09863333333333334, 0.0958\n",
      "train acc, test acc | 0.09751666666666667, 0.0974\n",
      "train acc, test acc | 0.11236666666666667, 0.1135\n",
      "train acc, test acc | 0.11236666666666667, 0.1135\n",
      "train acc, test acc | 0.11236666666666667, 0.1135\n",
      "train acc, test acc | 0.11236666666666667, 0.1135\n",
      "train acc, test acc | 0.1155, 0.1168\n",
      "train acc, test acc | 0.3382833333333333, 0.3414\n",
      "train acc, test acc | 0.5497, 0.553\n",
      "train acc, test acc | 0.6496333333333333, 0.6519\n",
      "train acc, test acc | 0.7394833333333334, 0.7434\n",
      "train acc, test acc | 0.82045, 0.8236\n",
      "train acc, test acc | 0.8562666666666666, 0.8602\n",
      "train acc, test acc | 0.8743, 0.8772\n",
      "train acc, test acc | 0.8858, 0.8874\n",
      "train acc, test acc | 0.8949166666666667, 0.8965\n",
      "train acc, test acc | 0.9044, 0.9032\n"
     ]
    },
    {
     "data": {
      "image/png": "[encoded data removed]",
      "text/plain": [
       "<Figure size 432x288 with 1 Axes>"
      ]
     },
     "metadata": {},
     "output_type": "display_data"
    },
    {
     "data": {
      "text/plain": [
       "<__main__.TrainNeuralNet at 0x1178670b8>"
      ]
     },
     "execution_count": 5,
     "metadata": {},
     "output_type": "execute_result"
    }
   ],
   "source": [
    "# 3層NN default\n",
    "# 認識精度 0.9066833333333333\n",
    "TrainNeuralNet(x_train=x_train, t_train=t_train, x_test=x_test, t_test=t_test )"
   ]
  },
  {
   "cell_type": "code",
   "execution_count": 6,
   "metadata": {},
   "outputs": [
    {
     "name": "stdout",
     "output_type": "stream",
     "text": [
      "train acc, test acc | 0.10218333333333333, 0.101\n",
      "train acc, test acc | 0.11236666666666667, 0.1135\n",
      "train acc, test acc | 0.09751666666666667, 0.0974\n",
      "train acc, test acc | 0.11236666666666667, 0.1135\n",
      "train acc, test acc | 0.10218333333333333, 0.101\n",
      "train acc, test acc | 0.11236666666666667, 0.1135\n",
      "train acc, test acc | 0.09736666666666667, 0.0982\n",
      "train acc, test acc | 0.09915, 0.1009\n",
      "train acc, test acc | 0.10218333333333333, 0.101\n",
      "train acc, test acc | 0.11236666666666667, 0.1135\n",
      "train acc, test acc | 0.2590166666666667, 0.2598\n",
      "train acc, test acc | 0.2986333333333333, 0.305\n",
      "train acc, test acc | 0.31445, 0.3215\n",
      "train acc, test acc | 0.32565, 0.3302\n",
      "train acc, test acc | 0.33631666666666665, 0.3399\n",
      "train acc, test acc | 0.3431, 0.3452\n",
      "train acc, test acc | 0.34446666666666664, 0.3439\n"
     ]
    },
    {
     "data": {
      "image/png": "[encoded data removed]",
      "text/plain": [
       "<Figure size 432x288 with 1 Axes>"
      ]
     },
     "metadata": {},
     "output_type": "display_data"
    },
    {
     "data": {
      "text/plain": [
       "<__main__.TrainNeuralNet at 0x1174c0c18>"
      ]
     },
     "execution_count": 6,
     "metadata": {},
     "output_type": "execute_result"
    }
   ],
   "source": [
    "# 3層NN 重みの初期値をゼロにしてみる\n",
    "# 認識精度 0.3489833333333333\n",
    "# 次章で説明するが、重みの初期値を均一にしてしまうと学習がうまく行かない\n",
    "experiment={'init_param': True, 'layer': False, 'func': False}\n",
    "TrainNeuralNet(x_train=x_train, t_train=t_train, x_test=x_test, t_test=t_test, experiment=experiment)"
   ]
  },
  {
   "cell_type": "code",
   "execution_count": 7,
   "metadata": {},
   "outputs": [
    {
     "name": "stdout",
     "output_type": "stream",
     "text": [
      "train acc, test acc | 0.09863333333333334, 0.0958\n",
      "train acc, test acc | 0.21133333333333335, 0.2135\n",
      "train acc, test acc | 0.7293166666666666, 0.738\n",
      "train acc, test acc | 0.8285333333333333, 0.831\n",
      "train acc, test acc | 0.85805, 0.8566\n",
      "train acc, test acc | 0.8794, 0.8783\n",
      "train acc, test acc | 0.8882, 0.8874\n",
      "train acc, test acc | 0.8938666666666667, 0.8905\n",
      "train acc, test acc | 0.8987666666666667, 0.8981\n",
      "train acc, test acc | 0.9030833333333333, 0.903\n",
      "train acc, test acc | 0.9057666666666667, 0.9039\n",
      "train acc, test acc | 0.9068166666666667, 0.9083\n",
      "train acc, test acc | 0.90895, 0.9081\n",
      "train acc, test acc | 0.91115, 0.9105\n",
      "train acc, test acc | 0.9119833333333334, 0.9106\n",
      "train acc, test acc | 0.9119166666666667, 0.9111\n",
      "train acc, test acc | 0.9158333333333334, 0.9122\n"
     ]
    },
    {
     "data": {
      "image/png": "[encoded data removed]",
      "text/plain": [
       "<Figure size 432x288 with 1 Axes>"
      ]
     },
     "metadata": {},
     "output_type": "display_data"
    },
    {
     "data": {
      "text/plain": [
       "<__main__.TrainNeuralNet at 0x116d97048>"
      ]
     },
     "execution_count": 7,
     "metadata": {},
     "output_type": "execute_result"
    }
   ],
   "source": [
    "# 3層NN シグモイド関数を適用しない\n",
    "# 認識精度 0.9140166666666667\n",
    "experiment={'init_param': False, 'layer': False, 'func': True}\n",
    "TrainNeuralNet(x_train=x_train, t_train=t_train, x_test=x_test, t_test=t_test, experiment=experiment)"
   ]
  },
  {
   "cell_type": "code",
   "execution_count": 8,
   "metadata": {},
   "outputs": [
    {
     "name": "stdout",
     "output_type": "stream",
     "text": [
      "train acc, test acc | 0.09871666666666666, 0.098\n",
      "train acc, test acc | 0.5139833333333333, 0.5107\n",
      "train acc, test acc | 0.8931333333333333, 0.8954\n",
      "train acc, test acc | 0.9315, 0.9323\n",
      "train acc, test acc | 0.9507333333333333, 0.9485\n",
      "train acc, test acc | 0.9602666666666667, 0.9547\n",
      "train acc, test acc | 0.9655666666666667, 0.9599\n",
      "train acc, test acc | 0.9688333333333333, 0.9607\n",
      "train acc, test acc | 0.9749666666666666, 0.9653\n",
      "train acc, test acc | 0.9751166666666666, 0.9646\n",
      "train acc, test acc | 0.977, 0.9661\n",
      "train acc, test acc | 0.9809166666666667, 0.9702\n",
      "train acc, test acc | 0.9825, 0.9699\n",
      "train acc, test acc | 0.9824666666666667, 0.9681\n",
      "train acc, test acc | 0.9838, 0.9706\n",
      "train acc, test acc | 0.98515, 0.971\n",
      "train acc, test acc | 0.9836, 0.9682\n"
     ]
    },
    {
     "data": {
      "image/png": "[encoded data removed]",
      "text/plain": [
       "<Figure size 432x288 with 1 Axes>"
      ]
     },
     "metadata": {},
     "output_type": "display_data"
    },
    {
     "data": {
      "text/plain": [
       "<__main__.TrainNeuralNet at 0x116d97e80>"
      ]
     },
     "execution_count": 8,
     "metadata": {},
     "output_type": "execute_result"
    }
   ],
   "source": [
    "# 3層NN 学習率=1\n",
    "# 認識精度 0.9876333333333334\n",
    "# 若干過学習\n",
    "TrainNeuralNet(x_train=x_train, t_train=t_train, x_test=x_test, t_test=t_test, learning_rate=1)"
   ]
  },
  {
   "cell_type": "code",
   "execution_count": 9,
   "metadata": {},
   "outputs": [
    {
     "name": "stdout",
     "output_type": "stream",
     "text": [
      "train acc, test acc | 0.09863333333333334, 0.0958\n",
      "train acc, test acc | 0.10441666666666667, 0.1028\n",
      "train acc, test acc | 0.10441666666666667, 0.1028\n",
      "train acc, test acc | 0.1141, 0.1156\n",
      "train acc, test acc | 0.3122, 0.3208\n",
      "train acc, test acc | 0.5555333333333333, 0.5562\n",
      "train acc, test acc | 0.7223, 0.7262\n",
      "train acc, test acc | 0.7841, 0.7872\n",
      "train acc, test acc | 0.8280666666666666, 0.8301\n",
      "train acc, test acc | 0.8497333333333333, 0.8483\n",
      "train acc, test acc | 0.86365, 0.8646\n",
      "train acc, test acc | 0.8737333333333334, 0.8736\n",
      "train acc, test acc | 0.8840333333333333, 0.8838\n",
      "train acc, test acc | 0.89585, 0.8961\n",
      "train acc, test acc | 0.9042, 0.9041\n",
      "train acc, test acc | 0.9105333333333333, 0.9103\n",
      "train acc, test acc | 0.9152166666666667, 0.9167\n"
     ]
    },
    {
     "data": {
      "image/png": "[encoded data removed]",
      "text/plain": [
       "<Figure size 432x288 with 1 Axes>"
      ]
     },
     "metadata": {},
     "output_type": "display_data"
    },
    {
     "data": {
      "text/plain": [
       "<__main__.TrainNeuralNet at 0x1174f8c18>"
      ]
     },
     "execution_count": 9,
     "metadata": {},
     "output_type": "execute_result"
    }
   ],
   "source": [
    "# 3層NN 隠れ層のサイズ変更\n",
    "# 認識精度 0.9157833333333333\n",
    "size={'in': 784, 'hidden1': 200, 'hidden2': 200, 'out': 10}\n",
    "TrainNeuralNet(x_train=x_train, t_train=t_train, x_test=x_test, t_test=t_test, size=size)"
   ]
  },
  {
   "cell_type": "code",
   "execution_count": 10,
   "metadata": {},
   "outputs": [
    {
     "name": "stdout",
     "output_type": "stream",
     "text": [
      "train acc, test acc | 0.09035, 0.0892\n",
      "train acc, test acc | 0.38506666666666667, 0.3872\n",
      "train acc, test acc | 0.86065, 0.8646\n",
      "train acc, test acc | 0.91595, 0.9164\n",
      "train acc, test acc | 0.9450166666666666, 0.943\n",
      "train acc, test acc | 0.9575333333333333, 0.9542\n",
      "train acc, test acc | 0.9578666666666666, 0.9508\n",
      "train acc, test acc | 0.968, 0.9623\n",
      "train acc, test acc | 0.971, 0.9629\n",
      "train acc, test acc | 0.9779333333333333, 0.971\n",
      "train acc, test acc | 0.9791333333333333, 0.9707\n",
      "train acc, test acc | 0.9818666666666667, 0.9733\n",
      "train acc, test acc | 0.985, 0.9736\n",
      "train acc, test acc | 0.9865, 0.9752\n",
      "train acc, test acc | 0.9870666666666666, 0.975\n",
      "train acc, test acc | 0.98745, 0.9765\n",
      "train acc, test acc | 0.9918, 0.9778\n"
     ]
    },
    {
     "data": {
      "image/png": "[encoded data removed]",
      "text/plain": [
       "<Figure size 432x288 with 1 Axes>"
      ]
     },
     "metadata": {},
     "output_type": "display_data"
    },
    {
     "data": {
      "text/plain": [
       "<__main__.TrainNeuralNet at 0x1174b5f28>"
      ]
     },
     "execution_count": 10,
     "metadata": {},
     "output_type": "execute_result"
    }
   ],
   "source": [
    "# 3層NN 隠れ層のサイズ変更+学習率=1\n",
    "# 認識精度 0.9882333333333333\n",
    "size={'in': 784, 'hidden1': 200, 'hidden2': 200, 'out': 10}\n",
    "TrainNeuralNet(x_train=x_train, t_train=t_train, x_test=x_test, t_test=t_test, size=size, learning_rate=1)"
   ]
  },
  {
   "cell_type": "code",
   "execution_count": 11,
   "metadata": {},
   "outputs": [
    {
     "name": "stdout",
     "output_type": "stream",
     "text": [
      "train acc, test acc | 0.09736666666666667, 0.0982\n",
      "train acc, test acc | 0.9237, 0.9208\n",
      "train acc, test acc | 0.9366833333333333, 0.9295\n",
      "train acc, test acc | 0.96885, 0.9597\n",
      "train acc, test acc | 0.9739333333333333, 0.9638\n",
      "train acc, test acc | 0.9824166666666667, 0.9732\n",
      "train acc, test acc | 0.9844666666666667, 0.9728\n",
      "train acc, test acc | 0.9846833333333334, 0.9705\n",
      "train acc, test acc | 0.9873333333333333, 0.974\n",
      "train acc, test acc | 0.9897833333333333, 0.9728\n",
      "train acc, test acc | 0.9911166666666666, 0.9763\n",
      "train acc, test acc | 0.9896833333333334, 0.976\n",
      "train acc, test acc | 0.9911333333333333, 0.9743\n",
      "train acc, test acc | 0.9962666666666666, 0.9787\n",
      "train acc, test acc | 0.9946833333333334, 0.9761\n",
      "train acc, test acc | 0.9966, 0.979\n",
      "train acc, test acc | 0.9971666666666666, 0.979\n"
     ]
    },
    {
     "data": {
      "image/png": "[encoded data removed]",
      "text/plain": [
       "<Figure size 432x288 with 1 Axes>"
      ]
     },
     "metadata": {},
     "output_type": "display_data"
    },
    {
     "data": {
      "text/plain": [
       "<__main__.TrainNeuralNet at 0x1108e6710>"
      ]
     },
     "execution_count": 11,
     "metadata": {},
     "output_type": "execute_result"
    }
   ],
   "source": [
    "# 3層NN 隠れ層のサイズ変更+学習率=1\n",
    "# 認識精度 0.9967666666666667\n",
    "size={'in': 784, 'hidden1': 200, 'hidden2': 200, 'out': 10}\n",
    "TrainNeuralNet(x_train=x_train, t_train=t_train, x_test=x_test, t_test=t_test, size=size, learning_rate=5)"
   ]
  },
  {
   "cell_type": "code",
   "execution_count": 12,
   "metadata": {},
   "outputs": [
    {
     "name": "stdout",
     "output_type": "stream",
     "text": [
      "train acc, test acc | 0.0993, 0.1032\n",
      "train acc, test acc | 0.37041666666666667, 0.3747\n",
      "train acc, test acc | 0.8669333333333333, 0.8656\n",
      "train acc, test acc | 0.9131666666666667, 0.9105\n",
      "train acc, test acc | 0.9337666666666666, 0.9336\n",
      "train acc, test acc | 0.9502, 0.9457\n",
      "train acc, test acc | 0.9593833333333334, 0.9545\n",
      "train acc, test acc | 0.9683666666666667, 0.9608\n",
      "train acc, test acc | 0.9707833333333333, 0.9638\n",
      "train acc, test acc | 0.9772, 0.968\n",
      "train acc, test acc | 0.9756, 0.9673\n",
      "train acc, test acc | 0.9775333333333334, 0.9688\n",
      "train acc, test acc | 0.9842, 0.9723\n",
      "train acc, test acc | 0.985, 0.9716\n",
      "train acc, test acc | 0.9884833333333334, 0.9774\n",
      "train acc, test acc | 0.9894833333333334, 0.9778\n",
      "train acc, test acc | 0.9881166666666666, 0.9751\n"
     ]
    },
    {
     "data": {
      "image/png": "[encoded data removed]",
      "text/plain": [
       "<Figure size 432x288 with 1 Axes>"
      ]
     },
     "metadata": {},
     "output_type": "display_data"
    },
    {
     "data": {
      "text/plain": [
       "<__main__.TrainNeuralNet at 0x1174cc2e8>"
      ]
     },
     "execution_count": 12,
     "metadata": {},
     "output_type": "execute_result"
    }
   ],
   "source": [
    "# 3層NN シグモイド関数なし+学習率=1\n",
    "# 認識精度 0.9907166666666667\n",
    "experiment={'init_param': False, 'layer': False, 'func': True}\n",
    "TrainNeuralNet(x_train=x_train, t_train=t_train, x_test=x_test, t_test=t_test, size=size, learning_rate=1)"
   ]
  },
  {
   "cell_type": "markdown",
   "metadata": {},
   "source": [
    "## 考察（謎だらけ^^）\n",
    "\n",
    "学習率が高いほど認識精度が良く見えているが、訓練データとテストデータの認識精度に乖離がある。  \n",
    "学習率が高いと早く収束するが安定しなさそう。後の章で学習率を動的に変える仕組みがあるのでそこで学ぶとする。\n",
    "\n",
    "シグモイド関数を適用しない場合はむしろ認識率が良くなっているがなんで？  \n",
    "そもそも活性化関数はなんでいるんだっけ？  \n",
    "自分の理解では単純パーセプトロンの組み合わせで非線形問題は解けるはず・・  \n",
    "\n",
    "活性化関数がない場合は、  \n",
    "predictの計算結果を2値分類できないから、  \n",
    "各事象の確率をそれぞれのニューロンが持たないといけなくなるので、  \n",
    "2値の分類をするのに2ニューロン必要になる？\n",
    "活性化関数を適用することで確率を1ニューロンで表現できる？  \n",
    "必ずしも活性化関数がないと学習が出来ないわけではなさそう。 -> ファジー理論？\n",
    "（今後、深く学ぶ）\n",
    "\n",
    "一層しかない単純パーセプトロン相当だと認識率はどうなるんだろうか。  \n",
    "⬇︎やってみる。上のコードはもう変えたくないので冗長だが書き直す。"
   ]
  },
  {
   "cell_type": "code",
   "execution_count": 13,
   "metadata": {},
   "outputs": [],
   "source": [
    "# 隠れそうなしでやってみる。\n",
    "import numpy as np\n",
    "import sys, os\n",
    "sys.path.append(os.pardir)\n",
    "from common.functions import *\n",
    "from common.gradient import numerical_gradient\n",
    "\n",
    "class OneLayerNet:\n",
    "    # 初期化関数 NNのパラメータの初期値設定を行う\n",
    "    def __init__(self, size = {'in': 784, 'out': 10},\n",
    "                 weight_init_std=0.01):\n",
    "        self.params = {}\n",
    "        self.experiment = experiment\n",
    "        self.params['W'] = weight_init_std * np.random.randn(size['in'], size['out'])\n",
    "        self.params['b'] = np.zeros(size['out'])\n",
    "\n",
    "    # 推論を行う\n",
    "    def predict(self, input_data):\n",
    "        W = self.params['W']\n",
    "        b = self.params['b']\n",
    "        \n",
    "        a = np.dot(input_data, W) + b\n",
    "        output_data=softmax(a)\n",
    "        \n",
    "        return output_data\n",
    "    \n",
    "    # 損失関数の値を求める\n",
    "    def loss(self, x, t):\n",
    "        y = self.predict(x)\n",
    "        \n",
    "        return cross_entropy_error(y, t)\n",
    "    \n",
    "    # 認識精度\n",
    "    def accuracy(self, x, t):\n",
    "        y = self.predict(x)\n",
    "        # argmaxは配列内の最大要素の位置を返す\n",
    "        y = np.argmax(y, axis=1)\n",
    "        t = np.argmax(t, axis=1)\n",
    "        \n",
    "        accuracy = np.sum(y == t) / float(x.shape[0])\n",
    "        return accuracy\n",
    "    \n",
    "    # 重みパラメータに対する勾配を求める\n",
    "    def numerical_gradient(self, x, t):\n",
    "        loss_W = lambda W: self.loss(x, t)\n",
    "            \n",
    "        grads = {}\n",
    "        grads['W'] = numerical_gradient(loss_W, self.params['W'])\n",
    "        grads['b'] = numerical_gradient(loss_W, self.params['b'])\n",
    "        \n",
    "        return grads\n",
    "    \n",
    "    # 高速化版　次の章の内容含む\n",
    "    def gradient(self, x, t):\n",
    "        W = self.params['W']\n",
    "        b = self.params['b']\n",
    "        grads = {}\n",
    "        \n",
    "        batch_num = x.shape[0]\n",
    "        \n",
    "        # forward\n",
    "        a = np.dot(x, W) + b\n",
    "        y = softmax(a)\n",
    "        \n",
    "        # backward\n",
    "        dy = (y - t) / batch_num\n",
    "        \n",
    "        grads['W'] = np.dot(x.T, dy)\n",
    "        grads['b'] = np.sum(dy, axis=0)\n",
    "\n",
    "        return grads"
   ]
  },
  {
   "cell_type": "code",
   "execution_count": 14,
   "metadata": {},
   "outputs": [],
   "source": [
    "import numpy as np\n",
    "import matplotlib.pyplot as plt\n",
    "\n",
    "class TrainNeuralNet:\n",
    "    \n",
    "    def __init__(self, iteration=10000, train_size=60000, batch_size=100, learning_rate=0.1, \n",
    "                 size={'in': 784, 'out': 10}, \n",
    "                 experiment={'init_param': False, 'func': False, 'layer': False}, \n",
    "                 x_train=[], t_train=[], x_test=[], t_test=[]):\n",
    "        train_loss_list = []\n",
    "        train_acc_list = []\n",
    "        test_acc_list = []\n",
    "        # 1エポック辺りの繰り返し数\n",
    "        iter_per_epoch = max(train_size / batch_size, 1)\n",
    "        \n",
    "\n",
    "        network = OneLayerNet(size=size)\n",
    "        keys = ['W', 'b']\n",
    "            \n",
    "        for i in range(iteration):\n",
    "            # ミニバッチ取得\n",
    "            batch_mask = np.random.choice(train_size, batch_size)\n",
    "            x_batch = x_train[batch_mask]\n",
    "            t_batch = t_train[batch_mask]\n",
    "\n",
    "            # 勾配計算\n",
    "            # grad = network.numerical_gradient(x_batch, t_batch)\n",
    "            grad = network.gradient(x_batch, t_batch)\n",
    "            \n",
    "            # パラメータ更新\n",
    "            for key in keys:\n",
    "                network.params[key] -= learning_rate * grad[key]\n",
    "            \n",
    "            loss = network.loss(x_batch, t_batch)\n",
    "            train_loss_list.append(loss)\n",
    "            \n",
    "            # 1エポックごとに認識率を計算\n",
    "            if i % iter_per_epoch == 0:\n",
    "                train_acc = network.accuracy(x_train, t_train)\n",
    "                test_acc = network.accuracy(x_test, t_test)\n",
    "                train_acc_list.append(train_acc)\n",
    "                test_acc_list.append(test_acc)\n",
    "                print(\"train acc, test acc | \" + str(train_acc) + \", \" + str(test_acc))\n",
    "                \n",
    "        # グラフの描画\n",
    "        markers = {'train': 'o', 'test': 's'}\n",
    "        x = np.arange(len(train_acc_list))\n",
    "        plt.plot(x, train_acc_list, label='train acc')\n",
    "        plt.plot(x, test_acc_list, label='test acc', linestyle='--')\n",
    "        plt.xlabel(\"epochs\")\n",
    "        plt.ylabel(\"accuracy\")\n",
    "        plt.ylim(0, 1.0)\n",
    "        plt.legend(loc='lower right')\n",
    "        plt.show()\n",
    "             "
   ]
  },
  {
   "cell_type": "code",
   "execution_count": 15,
   "metadata": {},
   "outputs": [
    {
     "name": "stdout",
     "output_type": "stream",
     "text": [
      "train acc, test acc | 0.27366666666666667, 0.2682\n",
      "train acc, test acc | 0.8957166666666667, 0.9033\n",
      "train acc, test acc | 0.9047, 0.9103\n",
      "train acc, test acc | 0.9105333333333333, 0.9151\n",
      "train acc, test acc | 0.9136833333333333, 0.9158\n",
      "train acc, test acc | 0.9161833333333333, 0.9189\n",
      "train acc, test acc | 0.9189333333333334, 0.9214\n",
      "train acc, test acc | 0.9196166666666666, 0.92\n",
      "train acc, test acc | 0.92025, 0.9204\n",
      "train acc, test acc | 0.92005, 0.9206\n",
      "train acc, test acc | 0.9216666666666666, 0.9211\n",
      "train acc, test acc | 0.9221833333333334, 0.9213\n",
      "train acc, test acc | 0.9228, 0.9218\n",
      "train acc, test acc | 0.92325, 0.9218\n",
      "train acc, test acc | 0.9235333333333333, 0.9232\n",
      "train acc, test acc | 0.9240166666666667, 0.9214\n",
      "train acc, test acc | 0.9257333333333333, 0.9241\n"
     ]
    },
    {
     "data": {
      "image/png": "[encoded data removed]",
      "text/plain": [
       "<Figure size 432x288 with 1 Axes>"
      ]
     },
     "metadata": {},
     "output_type": "display_data"
    },
    {
     "data": {
      "text/plain": [
       "<__main__.TrainNeuralNet at 0x117488550>"
      ]
     },
     "execution_count": 15,
     "metadata": {},
     "output_type": "execute_result"
    }
   ],
   "source": [
    "TrainNeuralNet(x_train=x_train, t_train=t_train, x_test=x_test, t_test=t_test)"
   ]
  },
  {
   "cell_type": "markdown",
   "metadata": {},
   "source": [
    "## 考察\n",
    "\n",
    "ふむぅ、単層でもある程度の認識精度が出ている。  \n",
    "そもそも単純に分離できちゃう問題なのかな？  \n",
    "数字認識程度ならハミング距離を使ったK-NNでもある程度の認識精度が出せそうだし、  \n",
    "あまり層やパラメータを変えて考察する対象としては良くないのかもしれない。"
   ]
  },
  {
   "cell_type": "code",
   "execution_count": null,
   "metadata": {},
   "outputs": [],
   "source": []
  }
 ],
 "metadata": {
  "kernelspec": {
   "display_name": "Python 3",
   "language": "python",
   "name": "python3"
  },
  "language_info": {
   "codemirror_mode": {
    "name": "ipython",
    "version": 3
   },
   "file_extension": ".py",
   "mimetype": "text/x-python",
   "name": "python",
   "nbconvert_exporter": "python",
   "pygments_lexer": "ipython3",
   "version": "3.5.1"
  }
 },
 "nbformat": 4,
 "nbformat_minor": 2
}
