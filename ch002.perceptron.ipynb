{
 "cells": [
  {
   "cell_type": "markdown",
   "metadata": {},
   "source": [
    "## パーセプトロン\n",
    "- ニューラルネットワークの起源と書いてある\n",
    "- 複数入力を2値の1出力で返す変換器、論理素子モデル\n",
    "\n",
    "それぞれの入力値に対して対応する重みをかけた計算結果が、  \n",
    "閾値hを超えていれば1、超えなければ0を出力する。"
   ]
  },
  {
   "cell_type": "markdown",
   "metadata": {},
   "source": [
    "画像はhttp://nkdkccmbr.hateblo.jp/entry/2016/10/06/222245\n",
    "を使わせて頂くとするmm\n",
    "\n",
    "図ch001-1:単純パーセプトロン\n",
    "<img border=\"0\" src=\"./images/perceptron.png\" width=\"512\" height=\"512\" alt=\"イラスト1\">"
   ]
  },
  {
   "cell_type": "markdown",
   "metadata": {},
   "source": [
    "xi(i=1..k): 入力信号  \n",
    "wi(i=1..k): 重み  \n",
    "y: 出力信号  \n",
    "\n",
    "重みwは電気回路の電流で言う所のコンダクタンス(1/抵抗)的なもので、重みが大きいほど発火しやすい。"
   ]
  },
  {
   "cell_type": "code",
   "execution_count": 1,
   "metadata": {},
   "outputs": [
    {
     "name": "stdout",
     "output_type": "stream",
     "text": [
      "0\n",
      "1\n",
      "0\n",
      "0\n"
     ]
    }
   ],
   "source": [
    "# パーセプトロンの式(k=2)：\n",
    "def perceptron(x1, x2, w1, w2, h):\n",
    "    return step_func(x1*w1 + x2*w2, h)\n",
    "\n",
    "# ステップ関数\n",
    "def step_func(value, threshold):\n",
    "    if value > threshold:\n",
    "        return 1\n",
    "    else:\n",
    "        return 0\n",
    "\n",
    "# AND回路をパーセプトロンで作る、w1、w2、hは学習した値ではなくAND論理になるように人間が考えた値\n",
    "AND = (lambda x1, x2: perceptron(x1, x2, 0.5, 0.5, 0.7))\n",
    "print(AND(0, 0))\n",
    "print(AND(1, 1))\n",
    "print(AND(1, 0))\n",
    "print(AND(0, 1))"
   ]
  },
  {
   "cell_type": "code",
   "execution_count": 2,
   "metadata": {},
   "outputs": [
    {
     "name": "stdout",
     "output_type": "stream",
     "text": [
      "1\n",
      "0\n",
      "1\n",
      "1\n"
     ]
    }
   ],
   "source": [
    "# NAND論理\n",
    "NAND = (lambda x1, x2: perceptron(x1, x2, -0.5, -0.5, -0.7))\n",
    "print(NAND(0, 0))\n",
    "print(NAND(1, 1))\n",
    "print(NAND(1, 0))\n",
    "print(NAND(0, 1))"
   ]
  },
  {
   "cell_type": "markdown",
   "metadata": {},
   "source": [
    "NAND論理が実現できるということは、パーセプトロンを多層で組み合わせれば所望の論理回路を実現することが出来る。   \n",
    "ASICの一種のセルベースICはあらかじめNANDだけを敷き詰めておいて後から配線をすることでセミカスタムにLSIを設計する。  \n",
    "\n",
    "例えば、NOT演算を行いたい場合には二つの入力を同じものにすれば実現できる。  \n",
    "ド・モルガンの法則などでゴニョゴニョすればどのような論理もNANDだけで組む事ができる。  \n",
    "\n",
    "$$\n",
    "\\begin{align}\n",
    "\\overline{A \\cdot A} = \\overline{A}\n",
    "\\end{align}\n",
    "$$"
   ]
  },
  {
   "cell_type": "markdown",
   "metadata": {},
   "source": [
    "XORをNANDで実現する(空集合と分配則を使うと4素子に出来る)\n",
    "\n",
    "$$\n",
    "\\begin{align}\n",
    "A \\cdot \\overline{B} + \\overline{A} \\cdot B\n",
    "= \\overline{\\overline{A \\cdot \\overline{B} + \\overline{A} \\cdot B}}\n",
    "= \\overline{ \\overline{A \\cdot \\overline{B}} \\cdot \\overline{\\overline{A} \\cdot B} }\n",
    "= \\overline{ \\overline{A \\cdot \\overline{B \\cdot B}} \\cdot \\overline{\\overline{A \\cdot A} \\cdot B} }\n",
    "\\end{align}\n",
    "$$"
   ]
  },
  {
   "cell_type": "code",
   "execution_count": 3,
   "metadata": {},
   "outputs": [
    {
     "name": "stdout",
     "output_type": "stream",
     "text": [
      "0\n",
      "0\n",
      "1\n",
      "1\n"
     ]
    }
   ],
   "source": [
    "# 上の式をコードに落としてみる\n",
    "layer1_NOTA = (lambda x1: NAND(x1, x1))\n",
    "layer1_NOTB = (lambda x2: NAND(x2, x2))\n",
    "layer2_A_NOTB = (lambda x1, x2: NAND(x1, layer1_NOTB(x2)))\n",
    "layer2_B_NOTA = (lambda x1, x2: NAND(x2, layer1_NOTA(x1)))\n",
    "\n",
    "NOR = (lambda x1, x2: NAND(layer2_A_NOTB(x1, x2), layer2_B_NOTA(x1, x2)))\n",
    "print(NOR(0, 0))\n",
    "print(NOR(1, 1))\n",
    "print(NOR(1, 0))\n",
    "print(NOR(0, 1))"
   ]
  },
  {
   "cell_type": "markdown",
   "metadata": {},
   "source": [
    "### 単純パーセプトロンの限界\n",
    "式を見て明らかなように単純パーセプトロンは線形分離しかできない。  \n",
    "排他的論理和XORのような非線形の場合は分離ができない。  \n",
    "しかし、上述したように多層パーセプトロンは非線形分離も出来る。"
   ]
  }
 ],
 "metadata": {
  "kernelspec": {
   "display_name": "Python 3",
   "language": "python",
   "name": "python3"
  },
  "language_info": {
   "codemirror_mode": {
    "name": "ipython",
    "version": 3
   },
   "file_extension": ".py",
   "mimetype": "text/x-python",
   "name": "python",
   "nbconvert_exporter": "python",
   "pygments_lexer": "ipython3",
   "version": "3.5.1"
  }
 },
 "nbformat": 4,
 "nbformat_minor": 2
}
